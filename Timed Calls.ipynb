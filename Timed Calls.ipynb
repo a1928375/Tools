{
 "cells": [
  {
   "cell_type": "markdown",
   "metadata": {},
   "source": [
    "# Mine"
   ]
  },
  {
   "cell_type": "code",
   "execution_count": 10,
   "metadata": {},
   "outputs": [
    {
     "name": "stdout",
     "output_type": "stream",
     "text": [
      "(3.9999997625272954e-07, 4.813999973976024e-07, 2.900000026784255e-06)\n"
     ]
    }
   ],
   "source": [
    "import time\n",
    "\n",
    "def timedcall(fn, *args):\n",
    "    \"Call function with args; return the time in seconds and result.\"\n",
    "    \n",
    "    t0 = time.perf_counter()\n",
    "    \n",
    "    result = fn(*args)\n",
    "    \n",
    "    t1 = time.perf_counter()\n",
    "    \n",
    "    return t1-t0, result\n",
    "\n",
    "def average(numbers):\n",
    "    \"Return the average (arithmetic mean) of a sequence of numbers.\"\n",
    "    \n",
    "    return sum(numbers) / float(len(numbers)) \n",
    "\n",
    "def timedcalls(n, fn, *args):\n",
    "\n",
    "    times = []\n",
    "    \n",
    "    tem = 0 \n",
    "    \n",
    "    for _ in range(n):\n",
    "        \n",
    "        tem = tem + timedcall(fn, *args)[0]\n",
    "        \n",
    "        times.append(tem)\n",
    "    \n",
    "        tem = 0\n",
    "    \n",
    "    return min(times), average(times), max(times)\n",
    "    \n",
    "def squ(x):\n",
    "    \n",
    "    return x**10\n",
    "\n",
    "print (timedcalls(500, squ, 3))"
   ]
  },
  {
   "cell_type": "markdown",
   "metadata": {},
   "source": [
    "# Instructor"
   ]
  },
  {
   "cell_type": "code",
   "execution_count": 11,
   "metadata": {},
   "outputs": [
    {
     "name": "stdout",
     "output_type": "stream",
     "text": [
      "(3.999998625658918e-07, 4.770000036842248e-07, 1.5999999050109182e-06)\n"
     ]
    }
   ],
   "source": [
    "import time\n",
    "\n",
    "def timedcall(fn, *args):\n",
    "    \"Call function with args; return the time in seconds and result.\"\n",
    "    \n",
    "    t0 = time.perf_counter()\n",
    "    \n",
    "    result = fn(*args)\n",
    "    \n",
    "    t1 = time.perf_counter()\n",
    "    \n",
    "    return t1-t0, result\n",
    "\n",
    "def average(numbers):\n",
    "    \"Return the average (arithmetic mean) of a sequence of numbers.\"\n",
    "    \n",
    "    return sum(numbers) / float(len(numbers)) \n",
    "\n",
    "def timedcalls(n, fn, *args):\n",
    "    \"\"\"Call fn(*args) repeatedly: n times if n is an int, or up to n seconds if n is a float; return the min, avg, and max time\"\"\"\n",
    "\n",
    "    if isinstance (n,int):\n",
    "        \n",
    "        times = [timedcall(fn, *args)[0] for _ in range(n)]\n",
    "    \n",
    "    elif isinstance (n,float):\n",
    "        \n",
    "        times = []\n",
    "                            \n",
    "        while sum(time) < n:\n",
    "          \n",
    "            times.append(timedcall(fn, *args)[0]) \n",
    "       \n",
    "    return min(times), average(times), max(times)\n",
    "\n",
    "def squ(x):\n",
    "    \n",
    "    return x**10\n",
    "\n",
    "print (timedcalls(500, squ, 3))"
   ]
  }
 ],
 "metadata": {
  "kernelspec": {
   "display_name": "Python 3",
   "language": "python",
   "name": "python3"
  },
  "language_info": {
   "codemirror_mode": {
    "name": "ipython",
    "version": 3
   },
   "file_extension": ".py",
   "mimetype": "text/x-python",
   "name": "python",
   "nbconvert_exporter": "python",
   "pygments_lexer": "ipython3",
   "version": "3.7.3"
  }
 },
 "nbformat": 4,
 "nbformat_minor": 2
}
